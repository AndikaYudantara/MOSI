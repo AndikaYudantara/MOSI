{
  "nbformat": 4,
  "nbformat_minor": 0,
  "metadata": {
    "colab": {
      "name": "RandomWalker2.ipynb",
      "provenance": [],
      "collapsed_sections": [],
      "authorship_tag": "ABX9TyMt0K3VwaXQVv4gg+UnjsgK",
      "include_colab_link": true
    },
    "kernelspec": {
      "name": "python3",
      "display_name": "Python 3"
    }
  },
  "cells": [
    {
      "cell_type": "markdown",
      "metadata": {
        "id": "view-in-github",
        "colab_type": "text"
      },
      "source": [
        "<a href=\"https://colab.research.google.com/github/AndikaYudantara/MOSI/blob/master/RandomWalker2.ipynb\" target=\"_parent\"><img src=\"https://colab.research.google.com/assets/colab-badge.svg\" alt=\"Open In Colab\"/></a>"
      ]
    },
    {
      "cell_type": "code",
      "metadata": {
        "id": "wNNd2knHiSB3",
        "colab_type": "code",
        "colab": {}
      },
      "source": [
        "import numpy as np\n",
        "import pandas as pd\n",
        "import matplotlib.pyplot as plt\n",
        "from matplotlib.animation import FuncAnimation"
      ],
      "execution_count": 0,
      "outputs": []
    },
    {
      "cell_type": "code",
      "metadata": {
        "id": "VGN168o2ibrW",
        "colab_type": "code",
        "colab": {}
      },
      "source": [
        "# random walker 2D, 4 direction, 10 particles, 100 iteration\n",
        "particles = 10\n",
        "list_iteration = []\n",
        "position = []\n",
        "\n",
        "iteration = 100\n",
        "\n",
        "#simulation space\n",
        "width = 100\n",
        "height = 100\n"
      ],
      "execution_count": 0,
      "outputs": []
    },
    {
      "cell_type": "code",
      "metadata": {
        "id": "60SO0Q6lifKp",
        "colab_type": "code",
        "outputId": "9842e9fc-534d-4838-a640-3dcaf9feb3be",
        "colab": {
          "base_uri": "https://localhost:8080/",
          "height": 187
        }
      },
      "source": [
        "for i in range(particles):\n",
        "  x_pos = int(np.random.rand()*width)\n",
        "  y_pos = int(np.random.rand()*height)\n",
        "  position.append([x_pos, y_pos])\n",
        "list_iteration.append(position)\n",
        "list_iteration"
      ],
      "execution_count": 0,
      "outputs": [
        {
          "output_type": "execute_result",
          "data": {
            "text/plain": [
              "[[[45, 96],\n",
              "  [69, 14],\n",
              "  [39, 66],\n",
              "  [94, 97],\n",
              "  [17, 88],\n",
              "  [95, 66],\n",
              "  [30, 58],\n",
              "  [86, 48],\n",
              "  [25, 67],\n",
              "  [13, 46]]]"
            ]
          },
          "metadata": {
            "tags": []
          },
          "execution_count": 21
        }
      ]
    },
    {
      "cell_type": "code",
      "metadata": {
        "id": "JnLjNNfpi-3L",
        "colab_type": "code",
        "outputId": "9febaf7d-e200-40e1-8710-699ef3e57b0e",
        "colab": {
          "base_uri": "https://localhost:8080/",
          "height": 419
        }
      },
      "source": [
        "for i in range(iteration):\n",
        "  position = []\n",
        "  for j in range(particles):\n",
        "    x_pos = list_iteration[i][j][0]\n",
        "    y_pos = list_iteration[i][j][1]\n",
        "    rand = np.random.rand()\n",
        "\n",
        "    if rand<=0.25:\n",
        "      x_pos = x_pos+1\n",
        "    elif rand<=0.50:\n",
        "      y_pos = y_pos-1\n",
        "    elif rand<=0.75:\n",
        "      x_pos = x_pos-1\n",
        "    else:\n",
        "      y_pos = y_pos+1 \n",
        "\n",
        "    if x_pos>width:\n",
        "      x_pos = x_pos-width\n",
        "    if x_pos<0:\n",
        "      x_pos = x_pos+width\n",
        "    if y_pos>height:\n",
        "      y_pos = y_pos-height\n",
        "    if y_pos<0:\n",
        "      y_pos = y_pos+height\n",
        "  \n",
        "    position.append([x_pos, y_pos])\n",
        "  list_iteration.append(position)\n",
        "df = pd.DataFrame(list_iteration)\n",
        "df\n"
      ],
      "execution_count": 0,
      "outputs": [
        {
          "output_type": "execute_result",
          "data": {
            "text/html": [
              "<div>\n",
              "<style scoped>\n",
              "    .dataframe tbody tr th:only-of-type {\n",
              "        vertical-align: middle;\n",
              "    }\n",
              "\n",
              "    .dataframe tbody tr th {\n",
              "        vertical-align: top;\n",
              "    }\n",
              "\n",
              "    .dataframe thead th {\n",
              "        text-align: right;\n",
              "    }\n",
              "</style>\n",
              "<table border=\"1\" class=\"dataframe\">\n",
              "  <thead>\n",
              "    <tr style=\"text-align: right;\">\n",
              "      <th></th>\n",
              "      <th>0</th>\n",
              "      <th>1</th>\n",
              "      <th>2</th>\n",
              "      <th>3</th>\n",
              "      <th>4</th>\n",
              "      <th>5</th>\n",
              "      <th>6</th>\n",
              "      <th>7</th>\n",
              "      <th>8</th>\n",
              "      <th>9</th>\n",
              "    </tr>\n",
              "  </thead>\n",
              "  <tbody>\n",
              "    <tr>\n",
              "      <th>0</th>\n",
              "      <td>[45, 96]</td>\n",
              "      <td>[69, 14]</td>\n",
              "      <td>[39, 66]</td>\n",
              "      <td>[94, 97]</td>\n",
              "      <td>[17, 88]</td>\n",
              "      <td>[95, 66]</td>\n",
              "      <td>[30, 58]</td>\n",
              "      <td>[86, 48]</td>\n",
              "      <td>[25, 67]</td>\n",
              "      <td>[13, 46]</td>\n",
              "    </tr>\n",
              "    <tr>\n",
              "      <th>1</th>\n",
              "      <td>[45, 95]</td>\n",
              "      <td>[69, 15]</td>\n",
              "      <td>[39, 67]</td>\n",
              "      <td>[93, 97]</td>\n",
              "      <td>[18, 88]</td>\n",
              "      <td>[94, 66]</td>\n",
              "      <td>[30, 57]</td>\n",
              "      <td>[86, 47]</td>\n",
              "      <td>[25, 68]</td>\n",
              "      <td>[14, 46]</td>\n",
              "    </tr>\n",
              "    <tr>\n",
              "      <th>2</th>\n",
              "      <td>[46, 95]</td>\n",
              "      <td>[69, 16]</td>\n",
              "      <td>[40, 67]</td>\n",
              "      <td>[94, 97]</td>\n",
              "      <td>[19, 88]</td>\n",
              "      <td>[95, 66]</td>\n",
              "      <td>[30, 58]</td>\n",
              "      <td>[86, 48]</td>\n",
              "      <td>[25, 67]</td>\n",
              "      <td>[13, 46]</td>\n",
              "    </tr>\n",
              "    <tr>\n",
              "      <th>3</th>\n",
              "      <td>[45, 95]</td>\n",
              "      <td>[70, 16]</td>\n",
              "      <td>[41, 67]</td>\n",
              "      <td>[94, 96]</td>\n",
              "      <td>[18, 88]</td>\n",
              "      <td>[95, 67]</td>\n",
              "      <td>[30, 57]</td>\n",
              "      <td>[87, 48]</td>\n",
              "      <td>[25, 68]</td>\n",
              "      <td>[14, 46]</td>\n",
              "    </tr>\n",
              "    <tr>\n",
              "      <th>4</th>\n",
              "      <td>[44, 95]</td>\n",
              "      <td>[70, 17]</td>\n",
              "      <td>[41, 66]</td>\n",
              "      <td>[95, 96]</td>\n",
              "      <td>[18, 89]</td>\n",
              "      <td>[95, 68]</td>\n",
              "      <td>[30, 58]</td>\n",
              "      <td>[87, 49]</td>\n",
              "      <td>[24, 68]</td>\n",
              "      <td>[13, 46]</td>\n",
              "    </tr>\n",
              "    <tr>\n",
              "      <th>...</th>\n",
              "      <td>...</td>\n",
              "      <td>...</td>\n",
              "      <td>...</td>\n",
              "      <td>...</td>\n",
              "      <td>...</td>\n",
              "      <td>...</td>\n",
              "      <td>...</td>\n",
              "      <td>...</td>\n",
              "      <td>...</td>\n",
              "      <td>...</td>\n",
              "    </tr>\n",
              "    <tr>\n",
              "      <th>96</th>\n",
              "      <td>[48, 97]</td>\n",
              "      <td>[75, 96]</td>\n",
              "      <td>[49, 60]</td>\n",
              "      <td>[92, 3]</td>\n",
              "      <td>[26, 87]</td>\n",
              "      <td>[95, 74]</td>\n",
              "      <td>[30, 56]</td>\n",
              "      <td>[95, 47]</td>\n",
              "      <td>[35, 59]</td>\n",
              "      <td>[14, 49]</td>\n",
              "    </tr>\n",
              "    <tr>\n",
              "      <th>97</th>\n",
              "      <td>[49, 97]</td>\n",
              "      <td>[76, 96]</td>\n",
              "      <td>[50, 60]</td>\n",
              "      <td>[92, 2]</td>\n",
              "      <td>[26, 86]</td>\n",
              "      <td>[96, 74]</td>\n",
              "      <td>[31, 56]</td>\n",
              "      <td>[96, 47]</td>\n",
              "      <td>[35, 60]</td>\n",
              "      <td>[14, 50]</td>\n",
              "    </tr>\n",
              "    <tr>\n",
              "      <th>98</th>\n",
              "      <td>[50, 97]</td>\n",
              "      <td>[76, 95]</td>\n",
              "      <td>[50, 59]</td>\n",
              "      <td>[91, 2]</td>\n",
              "      <td>[26, 87]</td>\n",
              "      <td>[95, 74]</td>\n",
              "      <td>[31, 55]</td>\n",
              "      <td>[96, 48]</td>\n",
              "      <td>[36, 60]</td>\n",
              "      <td>[13, 50]</td>\n",
              "    </tr>\n",
              "    <tr>\n",
              "      <th>99</th>\n",
              "      <td>[49, 97]</td>\n",
              "      <td>[76, 94]</td>\n",
              "      <td>[49, 59]</td>\n",
              "      <td>[91, 3]</td>\n",
              "      <td>[27, 87]</td>\n",
              "      <td>[96, 74]</td>\n",
              "      <td>[31, 56]</td>\n",
              "      <td>[96, 47]</td>\n",
              "      <td>[36, 59]</td>\n",
              "      <td>[13, 49]</td>\n",
              "    </tr>\n",
              "    <tr>\n",
              "      <th>100</th>\n",
              "      <td>[49, 96]</td>\n",
              "      <td>[75, 94]</td>\n",
              "      <td>[49, 60]</td>\n",
              "      <td>[91, 2]</td>\n",
              "      <td>[27, 86]</td>\n",
              "      <td>[95, 74]</td>\n",
              "      <td>[30, 56]</td>\n",
              "      <td>[96, 46]</td>\n",
              "      <td>[36, 58]</td>\n",
              "      <td>[13, 50]</td>\n",
              "    </tr>\n",
              "  </tbody>\n",
              "</table>\n",
              "<p>101 rows × 10 columns</p>\n",
              "</div>"
            ],
            "text/plain": [
              "            0         1         2  ...         7         8         9\n",
              "0    [45, 96]  [69, 14]  [39, 66]  ...  [86, 48]  [25, 67]  [13, 46]\n",
              "1    [45, 95]  [69, 15]  [39, 67]  ...  [86, 47]  [25, 68]  [14, 46]\n",
              "2    [46, 95]  [69, 16]  [40, 67]  ...  [86, 48]  [25, 67]  [13, 46]\n",
              "3    [45, 95]  [70, 16]  [41, 67]  ...  [87, 48]  [25, 68]  [14, 46]\n",
              "4    [44, 95]  [70, 17]  [41, 66]  ...  [87, 49]  [24, 68]  [13, 46]\n",
              "..        ...       ...       ...  ...       ...       ...       ...\n",
              "96   [48, 97]  [75, 96]  [49, 60]  ...  [95, 47]  [35, 59]  [14, 49]\n",
              "97   [49, 97]  [76, 96]  [50, 60]  ...  [96, 47]  [35, 60]  [14, 50]\n",
              "98   [50, 97]  [76, 95]  [50, 59]  ...  [96, 48]  [36, 60]  [13, 50]\n",
              "99   [49, 97]  [76, 94]  [49, 59]  ...  [96, 47]  [36, 59]  [13, 49]\n",
              "100  [49, 96]  [75, 94]  [49, 60]  ...  [96, 46]  [36, 58]  [13, 50]\n",
              "\n",
              "[101 rows x 10 columns]"
            ]
          },
          "metadata": {
            "tags": []
          },
          "execution_count": 22
        }
      ]
    },
    {
      "cell_type": "code",
      "metadata": {
        "id": "eovuxVvgrccK",
        "colab_type": "code",
        "outputId": "b405b730-9832-43da-b45b-a3c38a35e176",
        "colab": {
          "base_uri": "https://localhost:8080/",
          "height": 609
        }
      },
      "source": [
        "fig, ax = plt.subplots(figsize=(10,10))\n",
        "for i in range(iteration):\n",
        "  for j in range(particles):\n",
        "    ax.scatter(list_iteration[i][j][0], list_iteration[i][j][1], s=50, alpha=0.5)\n",
        "plt.show"
      ],
      "execution_count": 0,
      "outputs": [
        {
          "output_type": "execute_result",
          "data": {
            "text/plain": [
              "<function matplotlib.pyplot.show>"
            ]
          },
          "metadata": {
            "tags": []
          },
          "execution_count": 23
        },
        {
          "output_type": "display_data",
          "data": {
            "image/png": "[encoded data removed]",
            "text/plain": [
              "<Figure size 720x720 with 1 Axes>"
            ]
          },
          "metadata": {
            "tags": [],
            "needs_background": "light"
          }
        }
      ]
    }
  ]
}