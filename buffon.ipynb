{
  "nbformat": 4,
  "nbformat_minor": 0,
  "metadata": {
    "colab": {
      "name": "buffon.ipynb",
      "provenance": [],
      "collapsed_sections": [],
      "authorship_tag": "ABX9TyN9VuJGi5kx/APrj5W7tunR",
      "include_colab_link": true
    },
    "kernelspec": {
      "name": "python3",
      "display_name": "Python 3"
    }
  },
  "cells": [
    {
      "cell_type": "markdown",
      "metadata": {
        "id": "view-in-github",
        "colab_type": "text"
      },
      "source": [
        "<a href=\"https://colab.research.google.com/github/AndikaYudantara/MOSI/blob/master/buffon.ipynb\" target=\"_parent\"><img src=\"https://colab.research.google.com/assets/colab-badge.svg\" alt=\"Open In Colab\"/></a>"
      ]
    },
    {
      "cell_type": "code",
      "metadata": {
        "id": "wOQyGxCwS2dw",
        "colab_type": "code",
        "colab": {}
      },
      "source": [
        "import matplotlib.pyplot as plt\n",
        "import math\n",
        "import numpy as np"
      ],
      "execution_count": 0,
      "outputs": []
    },
    {
      "cell_type": "code",
      "metadata": {
        "id": "iV_E22lDttJO",
        "colab_type": "code",
        "colab": {}
      },
      "source": [
        "l = 3\n",
        "d = 5\n",
        "N = 1000\n",
        "trial = 10000\n",
        "arrPi = []\n",
        "avgPi = []\n",
        "arrTrial = []"
      ],
      "execution_count": 0,
      "outputs": []
    },
    {
      "cell_type": "code",
      "metadata": {
        "id": "CkzqpgdFS6th",
        "colab_type": "code",
        "colab": {}
      },
      "source": [
        "# this loop may take several time\n",
        "for i in range(trial):\n",
        "  hit = 0\n",
        "  for j in range(N):\n",
        "    x = np.random.rand() * d\n",
        "    θ = np.random.rand() * 90\n",
        "    if x <= l*math.cos(math.radians(θ)):\n",
        "      hit += 1\n",
        "\n",
        "  pi = (2*l/d)*(N/hit)\n",
        "  arrPi.append(pi)\n",
        "  avgPi.append(np.mean(arrPi))\n",
        "  arrTrial.append(i)"
      ],
      "execution_count": 0,
      "outputs": []
    },
    {
      "cell_type": "code",
      "metadata": {
        "id": "45gAOiSLTmJh",
        "colab_type": "code",
        "outputId": "df677aeb-c19e-4600-fa24-cb7455e30007",
        "colab": {
          "base_uri": "https://localhost:8080/",
          "height": 265
        }
      },
      "source": [
        "plt.plot(arrTrial, avgPi)\n",
        "plt.show()"
      ],
      "execution_count": 65,
      "outputs": [
        {
          "output_type": "display_data",
          "data": {
            "image/png": "[encoded data removed]",
            "text/plain": [
              "<Figure size 432x288 with 1 Axes>"
            ]
          },
          "metadata": {
            "tags": []
          }
        }
      ]
    },
    {
      "cell_type": "code",
      "metadata": {
        "id": "d3pgCQrAo7MS",
        "colab_type": "code",
        "colab": {}
      },
      "source": [
        ""
      ],
      "execution_count": 0,
      "outputs": []
    }
  ]
}