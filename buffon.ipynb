{
  "nbformat": 4,
  "nbformat_minor": 0,
  "metadata": {
    "colab": {
      "name": "buffon.ipynb",
      "provenance": [],
      "collapsed_sections": [],
      "authorship_tag": "ABX9TyM0xS2aU2+o8DiuugXxcTvT",
      "include_colab_link": true
    },
    "kernelspec": {
      "name": "python3",
      "display_name": "Python 3"
    }
  },
  "cells": [
    {
      "cell_type": "markdown",
      "metadata": {
        "id": "view-in-github",
        "colab_type": "text"
      },
      "source": [
        "<a href=\"https://colab.research.google.com/github/AndikaYudantara/MOSI/blob/master/buffon.ipynb\" target=\"_parent\"><img src=\"https://colab.research.google.com/assets/colab-badge.svg\" alt=\"Open In Colab\"/></a>"
      ]
    },
    {
      "cell_type": "code",
      "metadata": {
        "id": "wOQyGxCwS2dw",
        "colab_type": "code",
        "colab": {}
      },
      "source": [
        "import matplotlib.pyplot as plt\n",
        "import math\n",
        "import numpy as np"
      ],
      "execution_count": 0,
      "outputs": []
    },
    {
      "cell_type": "code",
      "metadata": {
        "id": "CkzqpgdFS6th",
        "colab_type": "code",
        "colab": {}
      },
      "source": [
        "l = 3\n",
        "d = 5\n",
        "N = 1000\n",
        "trial = 1000\n",
        "pi = []\n",
        "avgPi = []\n",
        "arrayTrial = []\n",
        "hit = 0\n",
        "for i in range(trial):\n",
        "  for j in range(N):\n",
        "    sudut = math.degrees(math.radians(np.random.rand() * 90))\n",
        "    x = np.random.rand() * d\n",
        "    if x <= l*math.cos(sudut):\n",
        "      hit += 1\n",
        "  pi.append((2*l/d)*(N/hit))\n",
        "  avgPi.append(np.mean(pi))\n",
        "  arrayTrial.append(i)\n",
        "\n"
      ],
      "execution_count": 0,
      "outputs": []
    },
    {
      "cell_type": "code",
      "metadata": {
        "id": "45gAOiSLTmJh",
        "colab_type": "code",
        "outputId": "08026fcb-f302-4875-a35d-5083e91bfc3e",
        "colab": {
          "base_uri": "https://localhost:8080/",
          "height": 265
        }
      },
      "source": [
        "plt.plot(arrayTrial, pi)\n",
        "plt.show()"
      ],
      "execution_count": 0,
      "outputs": [
        {
          "output_type": "display_data",
          "data": {
            "image/png": "[encoded data removed]",
            "text/plain": [
              "<Figure size 432x288 with 1 Axes>"
            ]
          },
          "metadata": {
            "tags": []
          }
        }
      ]
    },
    {
      "cell_type": "code",
      "metadata": {
        "id": "d3pgCQrAo7MS",
        "colab_type": "code",
        "colab": {}
      },
      "source": [
        ""
      ],
      "execution_count": 0,
      "outputs": []
    }
  ]
}