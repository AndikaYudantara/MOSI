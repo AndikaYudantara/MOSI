{
  "nbformat": 4,
  "nbformat_minor": 0,
  "metadata": {
    "colab": {
      "name": "Aproksimasi Integral.ipynb",
      "provenance": [],
      "collapsed_sections": [],
      "authorship_tag": "ABX9TyPHb8Zu9mai5rSfOh8YE5S4",
      "include_colab_link": true
    },
    "kernelspec": {
      "name": "python3",
      "display_name": "Python 3"
    }
  },
  "cells": [
    {
      "cell_type": "markdown",
      "metadata": {
        "id": "view-in-github",
        "colab_type": "text"
      },
      "source": [
        "<a href=\"https://colab.research.google.com/github/AndikaYudantara/MOSI/blob/master/Aproksimasi_Integral.ipynb\" target=\"_parent\"><img src=\"https://colab.research.google.com/assets/colab-badge.svg\" alt=\"Open In Colab\"/></a>"
      ]
    },
    {
      "cell_type": "code",
      "metadata": {
        "id": "dIeSRX1cRjf2",
        "colab_type": "code",
        "colab": {}
      },
      "source": [
        "import matplotlib.pyplot as plt\n",
        "import math\n",
        "import numpy as np"
      ],
      "execution_count": 0,
      "outputs": []
    },
    {
      "cell_type": "code",
      "metadata": {
        "id": "BBvDwyT3WK7e",
        "colab_type": "code",
        "colab": {}
      },
      "source": [
        "def f(x):\n",
        "  return 3*x*x + x - 2"
      ],
      "execution_count": 0,
      "outputs": []
    },
    {
      "cell_type": "code",
      "metadata": {
        "id": "dL_H2D3yUnt9",
        "colab_type": "code",
        "colab": {}
      },
      "source": [
        "# number of try\n",
        "trial = 100\n",
        "# N +diff every trial\n",
        "diff = 100\n",
        "# top and bot limit\n",
        "a = 2\n",
        "b = 5\n",
        "\n",
        "N = [diff]\n",
        "arrTry = []\n",
        "arrApprox = []\n",
        "Try = 0"
      ],
      "execution_count": 0,
      "outputs": []
    },
    {
      "cell_type": "code",
      "metadata": {
        "id": "GyV9fYz_VSUn",
        "colab_type": "code",
        "colab": {}
      },
      "source": [
        "L_total = (b-a) * f(b)\n",
        "# print(L_total)\n",
        "for j in range(trial):\n",
        "  N.append(N[j]+diff)\n",
        "  hit = 0\n",
        "  for i in range(N[j]):\n",
        "    x = a + (np.random.rand()*(b-a))\n",
        "    y = np.random.rand()*f(b)\n",
        "    if y <= f(x):\n",
        "      hit += 1\n",
        "\n",
        "  approx = (L_total * hit)/N[j]\n",
        "  arrApprox.append(approx)\n",
        "\n",
        "  Try += 1\n",
        "  arrTry.append(Try)"
      ],
      "execution_count": 0,
      "outputs": []
    },
    {
      "cell_type": "code",
      "metadata": {
        "id": "KI2Sd2bF0WlC",
        "colab_type": "code",
        "colab": {
          "base_uri": "https://localhost:8080/",
          "height": 279
        },
        "outputId": "4f398cf6-72ed-4731-ab84-b2bf05f3d735"
      },
      "source": [
        "plt.plot(arrTry, arrApprox)\n",
        "plt.xlabel('Trial')\n",
        "plt.ylabel('Approx')\n",
        "plt.show()"
      ],
      "execution_count": 119,
      "outputs": [
        {
          "output_type": "display_data",
          "data": {
            "image/png": "[encoded data removed]",
            "text/plain": [
              "<Figure size 432x288 with 1 Axes>"
            ]
          },
          "metadata": {
            "tags": []
          }
        }
      ]
    }
  ]
}