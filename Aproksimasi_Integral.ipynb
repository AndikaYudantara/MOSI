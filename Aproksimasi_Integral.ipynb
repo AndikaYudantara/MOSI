{
  "nbformat": 4,
  "nbformat_minor": 0,
  "metadata": {
    "colab": {
      "name": "Aproksimasi Integral.ipynb",
      "provenance": [],
      "collapsed_sections": [],
      "authorship_tag": "ABX9TyNIMoOOdeC2zwvfCCxeUrsb",
      "include_colab_link": true
    },
    "kernelspec": {
      "name": "python3",
      "display_name": "Python 3"
    }
  },
  "cells": [
    {
      "cell_type": "markdown",
      "metadata": {
        "id": "view-in-github",
        "colab_type": "text"
      },
      "source": [
        "<a href=\"https://colab.research.google.com/github/AndikaYudantara/MOSI/blob/master/Aproksimasi_Integral.ipynb\" target=\"_parent\"><img src=\"https://colab.research.google.com/assets/colab-badge.svg\" alt=\"Open In Colab\"/></a>"
      ]
    },
    {
      "cell_type": "code",
      "metadata": {
        "id": "dIeSRX1cRjf2",
        "colab_type": "code",
        "colab": {}
      },
      "source": [
        "import matplotlib.pyplot as plt\n",
        "import math\n",
        "import numpy as np"
      ],
      "execution_count": 0,
      "outputs": []
    },
    {
      "cell_type": "code",
      "metadata": {
        "id": "BBvDwyT3WK7e",
        "colab_type": "code",
        "colab": {}
      },
      "source": [
        "def f(x):\n",
        "  return 3*x*x + x - 2"
      ],
      "execution_count": 0,
      "outputs": []
    },
    {
      "cell_type": "code",
      "metadata": {
        "id": "dL_H2D3yUnt9",
        "colab_type": "code",
        "colab": {}
      },
      "source": [
        "N = [1000, 2000, 3000, 4000, 5000, 6000, 7000, 8000, 9000, 10000]\n",
        "a = 2\n",
        "b = 5\n"
      ],
      "execution_count": 0,
      "outputs": []
    },
    {
      "cell_type": "code",
      "metadata": {
        "id": "GyV9fYz_VSUn",
        "colab_type": "code",
        "colab": {
          "base_uri": "https://localhost:8080/",
          "height": 187
        },
        "outputId": "3406560b-0b8f-4200-f077-7b374fb85c84"
      },
      "source": [
        "L_total = (b-a) * f(b)\n",
        "# print(L_total)\n",
        "for j in range(len(N)):\n",
        "  hit = 0\n",
        "  for i in range(N[j]):\n",
        "    x = a + (np.random.rand()*(b-a))\n",
        "    y = np.random.rand()*f(b)\n",
        "    if y <= f(x):\n",
        "      hit += 1\n",
        "\n",
        "  approx = (L_total * hit)/N[j]\n",
        "  print(approx)\n",
        "\n",
        "\n",
        "  \n",
        "\n"
      ],
      "execution_count": 107,
      "outputs": [
        {
          "output_type": "stream",
          "text": [
            "120.276\n",
            "120.042\n",
            "122.148\n",
            "119.457\n",
            "121.7268\n",
            "118.833\n",
            "121.04485714285714\n",
            "120.627\n",
            "122.434\n",
            "119.7846\n"
          ],
          "name": "stdout"
        }
      ]
    }
  ]
}